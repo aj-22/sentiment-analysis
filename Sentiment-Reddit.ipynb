{
 "cells": [
  {
   "cell_type": "code",
   "execution_count": null,
   "metadata": {},
   "outputs": [],
   "source": [
    "import praw\n",
    "from textblob import TextBlob\n",
    "import math\n",
    "\n",
    "reddit = praw.Reddit(client_id='POtkoqbTfjbguw',\n",
    "                     client_secret='\tBSvRRWOOwYytGW2zarRubAg-H5s',\n",
    "                     user_agent='fracto222')\n",
    "day_start = 1551744000\n",
    "day_end = 1551787200\n",
    "\n",
    "with open('sb.txt') as f:\n",
    "    for line in f:\n",
    "        sub = reddit.subreddit(line.strip())\n",
    "        sub-submissions = sub.submissions(day_start,day_end)\n",
    "        \n",
    "        sub_sentiment = 0\n",
    "        num_comments = 0\n",
    "    \n",
    "\n",
    "    "
   ]
  }
 ],
 "metadata": {
  "kernelspec": {
   "display_name": "Python 3",
   "language": "python",
   "name": "python3"
  },
  "language_info": {
   "codemirror_mode": {
    "name": "ipython",
    "version": 3
   },
   "file_extension": ".py",
   "mimetype": "text/x-python",
   "name": "python",
   "nbconvert_exporter": "python",
   "pygments_lexer": "ipython3",
   "version": "3.7.1"
  }
 },
 "nbformat": 4,
 "nbformat_minor": 2
}
